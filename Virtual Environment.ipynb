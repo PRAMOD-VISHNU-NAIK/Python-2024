{
 "cells": [
  {
   "cell_type": "markdown",
   "metadata": {},
   "source": [
    "# Virtual Environment"
   ]
  },
  {
   "cell_type": "markdown",
   "metadata": {},
   "source": [
    "#### What is a virtual environment?\n",
    "- Isolated working copy of python\n",
    "- Separate space to install packages specific to projects\n",
    "- Allows to work on specific project without worrying about affecting other projects\n",
    "- Includes its own installation directories, environment variables and packages.\n"
   ]
  },
  {
   "cell_type": "markdown",
   "metadata": {},
   "source": [
    "##### Creation of virtual environment is done by exceuting the command \"venv\"\n",
    " #Creating virtual environment\n",
    " `python -m venv /path/to/new/virtual/environment`\n",
    "\n",
    " Example:\n",
    " `python -m venv basic_python`\n",
    "\n",
    " Before executing the above command, make sure that we are in the folder that contains the virtual environment\n",
    "\n",
    " #Activate virtual environment in command prompt\n",
    " `basic_python\\Scripts\\activate.bat`\n",
    "\n",
    "- Running above command creates the target directory (creating any parent directories that don’t exist already) and places a pyvenv.cfg file in it with a home key pointing to the Python installation from which the command was run (a common name for the target directory is .venv)\n",
    "- It also creates a bin (or Scripts on Windows) subdirectory containing a copy/symlink of the Python binary/binaries (as appropriate for the platform or arguments used at environment creation time). \n",
    "- It also creates an (initially empty) lib/pythonX.Y/site-packages subdirectory (on Windows, this is Lib\\site-packages). \n",
    "- If an existing directory is specified, it will be re-used."
   ]
  },
  {
   "cell_type": "markdown",
   "metadata": {},
   "source": [
    "- After activating the venv, any packages installed using `pip` will be installed in the venv\n",
    "- This allows to have a separate set of packages for each project, without affecting the packages installed in the global environment"
   ]
  },
  {
   "cell_type": "markdown",
   "metadata": {},
   "source": [
    "#### To deactivate the virtual environment, use the deactivate command: `deactivate`"
   ]
  },
  {
   "cell_type": "markdown",
   "metadata": {},
   "source": [
    "#### Managing packages\n",
    "- Within a virtual environment, we can use `pip` to install, uninstall, and manage packages just like how we would do in a global environment\n",
    "\n",
    "#### Install a package\n",
    "`pip install name/of/the/package`\n",
    "\n",
    "Example: `pip install numpy`"
   ]
  },
  {
   "cell_type": "markdown",
   "metadata": {},
   "source": [
    "##### List installed packages\n",
    "`pip list`"
   ]
  },
  {
   "cell_type": "markdown",
   "metadata": {},
   "source": [
    "#### Freeze installed packages (to `requirements.txt`)\n",
    "- `pip freeze > requirements.txt`"
   ]
  },
  {
   "cell_type": "markdown",
   "metadata": {},
   "source": [
    "#### Install packages from `requirements.txt`\n",
    "- `pip install -r requirements.txt`"
   ]
  },
  {
   "cell_type": "markdown",
   "metadata": {},
   "source": [
    "#### Checking for outdated packages\n",
    "- `pip list --outdated`\n",
    "For more comprehensive check,\n",
    "- `pip install pip-review`\n",
    "- `pip-review --local`"
   ]
  }
 ],
 "metadata": {
  "kernelspec": {
   "display_name": "basic_python",
   "language": "python",
   "name": "python3"
  },
  "language_info": {
   "codemirror_mode": {
    "name": "ipython",
    "version": 3
   },
   "file_extension": ".py",
   "mimetype": "text/x-python",
   "name": "python",
   "nbconvert_exporter": "python",
   "pygments_lexer": "ipython3",
   "version": "3.12.3"
  }
 },
 "nbformat": 4,
 "nbformat_minor": 2
}
