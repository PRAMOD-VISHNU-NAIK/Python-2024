{
 "cells": [
  {
   "cell_type": "markdown",
   "metadata": {},
   "source": [
    "# Functions and Methods \n",
    "* Python Functions is a block of statements that return the specific task.\n",
    "* Syntax:\n",
    "    def func_name():\n",
    "        statements\n",
    "\n",
    "* Types of Python Function Arguments: \n",
    "Default argument,\n",
    "Keyword arguments,\n",
    "Positional arguments,\n",
    "Arbitrary arguments,"
   ]
  },
  {
   "cell_type": "code",
   "execution_count": 5,
   "metadata": {},
   "outputs": [
    {
     "name": "stdout",
     "output_type": "stream",
     "text": [
      "James Bond\n"
     ]
    }
   ],
   "source": [
    "def my_function(fname, lname=''):\n",
    "  print(f\"{fname} {lname}\")\n",
    "\n",
    "# my_function(\"Mark\") # Default Arguent\n",
    "# my_function(\"Mark\", \"Antony\") # Positional Argument\n",
    "my_function(lname=\"Bond\", fname=\"James\") #Keyword Argument\n"
   ]
  },
  {
   "cell_type": "code",
   "execution_count": 82,
   "metadata": {},
   "outputs": [
    {
     "name": "stdout",
     "output_type": "stream",
     "text": [
      "20.2\n"
     ]
    }
   ],
   "source": [
    "def add(num1: str, num2: int) -> int:\n",
    "    \"\"\"Add two numbers\"\"\"\n",
    "    num3 = num1 + num2\n",
    "\n",
    "    return num3\n",
    "\n",
    "# Driver code\n",
    "ans = add(num1=13, num2=7.2)\n",
    "print(ans)"
   ]
  },
  {
   "cell_type": "markdown",
   "metadata": {},
   "source": [
    "* In Python Arbitrary Keyword Arguments, *args, and **kwargs can pass a variable number of arguments to a function using special symbols. There are two special symbols:\n",
    "\n",
    "*args in Python (Non-Keyword Arguments)\n",
    "**kwargs in Python (Keyword Arguments)"
   ]
  },
  {
   "cell_type": "code",
   "execution_count": 88,
   "metadata": {},
   "outputs": [
    {
     "name": "stdout",
     "output_type": "stream",
     "text": [
      "<class 'tuple'>\n"
     ]
    }
   ],
   "source": [
    "def my_function(*argv):\n",
    "    print(type(argv))\n",
    "    # for arg in argv:\n",
    "    #     # print(type(arg)\n",
    "\n",
    "\n",
    "my_function(\"Mark\", \"James\", \"Hari\")"
   ]
  },
  {
   "cell_type": "code",
   "execution_count": 89,
   "metadata": {},
   "outputs": [
    {
     "name": "stdout",
     "output_type": "stream",
     "text": [
      "<class 'dict'>\n",
      "fname is James\n",
      "lname is Bond\n",
      "age is 26\n"
     ]
    }
   ],
   "source": [
    "def my_function(gender, **kwargs):\n",
    "  print(type(kwargs))\n",
    "  for key, value in kwargs.items():\n",
    "        print(f\"{key} is {value}\")\n",
    "\n",
    "my_function(gender = 'M',fname = \"James\", lname = \"Bond\", age=26)"
   ]
  },
  {
   "cell_type": "markdown",
   "metadata": {},
   "source": [
    "# Call by reference vs value in Python"
   ]
  },
  {
   "cell_type": "code",
   "execution_count": 90,
   "metadata": {},
   "outputs": [
    {
     "name": "stdout",
     "output_type": "stream",
     "text": [
      "number before= 6\n",
      "in function value updated to 12\n",
      "after function num value= 6\n"
     ]
    }
   ],
   "source": [
    "# Call by Value Example\n",
    "\n",
    "def call_by_value(x):\n",
    "    x = x * 2\n",
    "    print(\"in function value updated to\", x)\n",
    "    return\n",
    "\n",
    "num = 6\n",
    "print(\"number before=\", num)\n",
    "call_by_value(num)\n",
    "print(\"after function num value=\", num)\n",
    "\n"
   ]
  },
  {
   "cell_type": "code",
   "execution_count": 92,
   "metadata": {},
   "outputs": [
    {
     "name": "stdout",
     "output_type": "stream",
     "text": [
      "list before [1, 2, 3, 4, 5, 6]\n",
      "in function list updated to [1, 2, 20, 4, 5, 6, 'abc']\n",
      "after function list is  [1, 2, 20, 4, 5, 6, 'abc']\n"
     ]
    }
   ],
   "source": [
    "# Call by reference Example\n",
    "\n",
    "def call_by_reference(list):\n",
    "    list[2] = 20\n",
    "    list.append('abc')\n",
    "    print(\"in function list updated to\", list)\n",
    "    return\n",
    "\n",
    "my_list = [1,2,3,4,5,6]\n",
    "print(\"list before\",my_list)\n",
    "call_by_reference(my_list)\n",
    "print(\"after function list is \",my_list)"
   ]
  },
  {
   "cell_type": "code",
   "execution_count": 93,
   "metadata": {},
   "outputs": [
    {
     "name": "stdout",
     "output_type": "stream",
     "text": [
      "list before [1, 2, 3, 4, 5, 6]\n",
      "in function list updated to [10, 20, 30, 40, 50, 60]\n",
      "after function list is  [1, 2, 3, 4, 5, 6]\n"
     ]
    }
   ],
   "source": [
    "# Call by reference\n",
    "\n",
    "def call_by_reference(list: list[int]):\n",
    "    list = [10,20,30,40,50,60]\n",
    "    print(\"in function list updated to\", list)\n",
    "    return\n",
    "\n",
    "my_list = [1,2,3,4,5,6]\n",
    "print(\"list before\",my_list)\n",
    "call_by_reference(my_list)\n",
    "print(\"after function list is \",my_list)"
   ]
  },
  {
   "cell_type": "markdown",
   "metadata": {},
   "source": [
    "# Lambda Functions\n",
    "* Syntax: lambda arguments : expression\n",
    "* This function can have any number of arguments but only one expression, which is evaluated and returned."
   ]
  },
  {
   "cell_type": "code",
   "execution_count": 20,
   "metadata": {},
   "outputs": [
    {
     "name": "stdout",
     "output_type": "stream",
     "text": [
      "27\n"
     ]
    }
   ],
   "source": [
    "cube = lambda x : x*x*x\n",
    "\n",
    "print(cube(3))"
   ]
  },
  {
   "cell_type": "code",
   "execution_count": 24,
   "metadata": {},
   "outputs": [
    {
     "name": "stdout",
     "output_type": "stream",
     "text": [
      "Domestic\n",
      "Wild\n"
     ]
    }
   ],
   "source": [
    "animal_category = lambda animal:\"Domestic\" if animal == 'Dog' else \"Wild\"\n",
    "\n",
    "print(animal_category(\"Dog\"))\n",
    "print(animal_category(\"Lion\"))"
   ]
  },
  {
   "cell_type": "code",
   "execution_count": 26,
   "metadata": {},
   "outputs": [
    {
     "name": "stdout",
     "output_type": "stream",
     "text": [
      "[90, 59, 21, 60]\n"
     ]
    }
   ],
   "source": [
    "ages = [13, 90, 17, 59, 21, 60, 5]\n",
    "adults = list(filter(lambda age: age > 18, ages))\n",
    "\n",
    "print(adults)"
   ]
  },
  {
   "cell_type": "code",
   "execution_count": 27,
   "metadata": {},
   "outputs": [
    {
     "name": "stdout",
     "output_type": "stream",
     "text": [
      "[10, 14, 44, 194, 108, 124, 154, 46, 146, 122]\n"
     ]
    }
   ],
   "source": [
    "li = [5, 7, 22, 97, 54, 62, 77, 23, 73, 61]\n",
    "\n",
    "final_list = list(map(lambda x: x*2, li))\n",
    "print(final_list)"
   ]
  },
  {
   "cell_type": "markdown",
   "metadata": {},
   "source": [
    "# Recursive Functions in Python\n",
    "* Recursion in Python refers to when a function calls itself."
   ]
  },
  {
   "cell_type": "code",
   "execution_count": 35,
   "metadata": {},
   "outputs": [
    {
     "name": "stdout",
     "output_type": "stream",
     "text": [
      "24\n"
     ]
    }
   ],
   "source": [
    "def factorial(n):\n",
    "    if n == 0:  \n",
    "        return 1\n",
    "    else:\n",
    "        return n * factorial(n - 1) \n",
    "      \n",
    "print(factorial(4))"
   ]
  },
  {
   "cell_type": "code",
   "execution_count": 66,
   "metadata": {},
   "outputs": [
    {
     "name": "stdout",
     "output_type": "stream",
     "text": [
      "Fibonacci series:\n",
      "0 1 1 2 3 5 8 13 21 34 "
     ]
    }
   ],
   "source": [
    "def fibonacci(n):\n",
    "    if n <= 1:\n",
    "        return n\n",
    "    else:\n",
    "        return (fibonacci(n-1) + fibonacci(n-2))\n",
    "\n",
    "num_terms = 10\n",
    "\n",
    "if num_terms <= 0:\n",
    "    print(\"Invalid input\")\n",
    "else:\n",
    "    print(\"Fibonacci series:\")\n",
    "    for i in range(num_terms):\n",
    "        print(fibonacci(i), end=\" \")"
   ]
  },
  {
   "cell_type": "markdown",
   "metadata": {},
   "source": [
    "# Methods in Python\n",
    "* Method is called by its name, but it is associated to an object (dependent).\n",
    "* A method definition always includes ‘self’ as its first parameter.\n",
    "* A method can operate on the data (instance variables) that is contained by the corresponding class\n",
    "* Functions can be called only by its name, as it is defined independently. But methods can’t be called by its name only, we need to invoke the class by a reference of that class in which it is defined, i.e. method is defined within a class and hence they are dependent on that class."
   ]
  },
  {
   "cell_type": "code",
   "execution_count": 51,
   "metadata": {},
   "outputs": [
    {
     "name": "stdout",
     "output_type": "stream",
     "text": [
      "Ceiling value of 15.25 is :  16\n"
     ]
    }
   ],
   "source": [
    "import math\n",
    " \n",
    "ceil_val = math.ceil(15.25)\n",
    "print( \"Ceiling value of 15.25 is : \", ceil_val)"
   ]
  },
  {
   "cell_type": "code",
   "execution_count": null,
   "metadata": {},
   "outputs": [],
   "source": []
  },
  {
   "cell_type": "markdown",
   "metadata": {},
   "source": [
    "# Exercise\n",
    "* Ques 1: To return max number in a list\n",
    "* Ques 2: Find the length of Str/List using recursive function (Don't use len() method)"
   ]
  },
  {
   "cell_type": "code",
   "execution_count": null,
   "metadata": {},
   "outputs": [],
   "source": []
  }
 ],
 "metadata": {
  "kernelspec": {
   "display_name": "venv",
   "language": "python",
   "name": "python3"
  },
  "language_info": {
   "codemirror_mode": {
    "name": "ipython",
    "version": 3
   },
   "file_extension": ".py",
   "mimetype": "text/x-python",
   "name": "python",
   "nbconvert_exporter": "python",
   "pygments_lexer": "ipython3",
   "version": "3.12.4"
  }
 },
 "nbformat": 4,
 "nbformat_minor": 2
}
