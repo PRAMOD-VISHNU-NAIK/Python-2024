{
 "cells": [
  {
   "cell_type": "markdown",
   "metadata": {},
   "source": [
    "# Class\n",
    "* A class is a user-defined blueprint or prototype from which objects are created. Classes provide a means of bundling data and functionality together.\n",
    "* Syntax: \n",
    "class Class_Name():\n",
    "    Attribute\n",
    "    Method()"
   ]
  },
  {
   "cell_type": "code",
   "execution_count": 12,
   "metadata": {},
   "outputs": [
    {
     "name": "stdout",
     "output_type": "stream",
     "text": [
      "My name is Tom\n",
      "My breed is Pug\n",
      "My age is 5\n"
     ]
    }
   ],
   "source": [
    "class Dog:\n",
    "    # Attribute Variables\n",
    "    name:str\n",
    "    breed:str\n",
    "    age:int\n",
    "\n",
    "    #Method\n",
    "    def about(self):\n",
    "        print(f\"My name is {self.name}\")\n",
    "        print(f\"My breed is {self.breed}\")\n",
    "        print(f\"My age is {self.age}\")\n",
    "\n",
    "\n",
    "\n",
    "#Method 1 for initializing variable\n",
    "Tom = Dog()\n",
    "Tom.name = 'Tom'\n",
    "Tom.breed = 'Pug'\n",
    "Tom.age = 5\n",
    "\n",
    "Tom.about()"
   ]
  },
  {
   "cell_type": "code",
   "execution_count": 42,
   "metadata": {},
   "outputs": [
    {
     "name": "stdout",
     "output_type": "stream",
     "text": [
      "My name is Tom\n",
      "My breed is Pug\n",
      "My age is 5\n"
     ]
    }
   ],
   "source": [
    "class Dog:\n",
    "    def __init__(self,name:str, breed:str, age:int, category:str=\"Domestic Animal\"):\n",
    "\n",
    "        # Instance Variable\n",
    "        self.name = name\n",
    "        self.breed = breed\n",
    "        self.age = age\n",
    "        # self.category = category\n",
    "\n",
    "    def about(self):\n",
    "        print(f\"My name is {self.name}\")\n",
    "        print(f\"My breed is {self.breed}\")\n",
    "        print(f\"My age is {self.age}\")\n",
    "        # print(f\"My category is {self.category}\")\n",
    "\n",
    "    # def __str__(self) -> str:\n",
    "    #     return f\"Name is {self.name}\\nBreed {self.breed}\\nAge {self.age}\\nCategory {category}\"\n",
    "\n",
    "    def med_history(self,is_vaccinated:bool):\n",
    "        if is_vaccinated:\n",
    "            self.about()\n",
    "            print(f\"{self.name} is Vaccinated\")\n",
    "        else:\n",
    "            print(f\"{self.name} is not Vaccinated\")\n",
    "\n",
    "\n",
    "\n",
    "#Method 2 for initializing variable\n",
    "Tom = Dog(\n",
    "    name = 'Tom',\n",
    "    breed = 'Pug',\n",
    "    age=5\n",
    ")\n",
    "\n",
    "# Tom.category = 'Wild Animal'\n",
    "\n",
    "Tom.about()\n",
    "# print(Tom)\n",
    "# Tom.med_history(False)"
   ]
  },
  {
   "cell_type": "markdown",
   "metadata": {},
   "source": [
    "# Classmethod and Staticmethod"
   ]
  },
  {
   "cell_type": "code",
   "execution_count": 35,
   "metadata": {},
   "outputs": [
    {
     "name": "stdout",
     "output_type": "stream",
     "text": [
      "This is a class method. Class variable: class variable\n",
      "This is an instance method. Instance variable: instance variable\n",
      "This is a class method. Class variable: class variable\n"
     ]
    }
   ],
   "source": [
    "class MyClass:\n",
    "    class_variable = 'class variable'\n",
    "\n",
    "    def __init__(self, instance_variable):\n",
    "        self.instance_variable = instance_variable\n",
    "\n",
    "    @classmethod\n",
    "    def class_method(cls):\n",
    "        return f'This is a class method. Class variable: {cls.class_variable}'\n",
    "\n",
    "    def instance_method(self):\n",
    "        return f'This is an instance method. Instance variable: {self.instance_variable}'\n",
    "\n",
    "# Creating an instance of MyClass\n",
    "my_instance = MyClass('instance variable')\n",
    "\n",
    "# Calling the class method using the class\n",
    "print(MyClass.class_method())  \n",
    "\n",
    "# Calling the instance method using the instance\n",
    "print(my_instance.instance_method())\n",
    "\n",
    "# Calling the class method using the instance (possible but not typical)\n",
    "print(my_instance.class_method())\n"
   ]
  },
  {
   "cell_type": "code",
   "execution_count": 47,
   "metadata": {},
   "outputs": [
    {
     "name": "stdout",
     "output_type": "stream",
     "text": [
      "Static method called with arguments: arg1, arg2\n",
      "Static method called with arguments: arg3, arg4\n"
     ]
    }
   ],
   "source": [
    "class MyClass:\n",
    "    arg1 = 'Argument 1'\n",
    "    arg2 = 'Argument 2'\n",
    "\n",
    "    def __init__(self, arg1, arg2):\n",
    "        self.arg1 = arg1\n",
    "        self.arg2 = arg2\n",
    "    \n",
    "    @staticmethod\n",
    "    def static_method(arg1, arg2):\n",
    "        return f'Static method called with arguments: {arg1}, {arg2}'\n",
    "\n",
    "# Creating an instance of MyClass\n",
    "my_instance = MyClass('arg3', 'arg4')\n",
    "\n",
    "# Calling the static method using the class\n",
    "print(MyClass.static_method('arg1', 'arg2'))\n",
    "\n",
    "# Calling the static method using the instance\n",
    "print(my_instance.static_method('arg3', 'arg4'))\n"
   ]
  },
  {
   "cell_type": "code",
   "execution_count": null,
   "metadata": {},
   "outputs": [],
   "source": []
  }
 ],
 "metadata": {
  "kernelspec": {
   "display_name": "venv",
   "language": "python",
   "name": "python3"
  },
  "language_info": {
   "codemirror_mode": {
    "name": "ipython",
    "version": 3
   },
   "file_extension": ".py",
   "mimetype": "text/x-python",
   "name": "python",
   "nbconvert_exporter": "python",
   "pygments_lexer": "ipython3",
   "version": "3.11.6"
  }
 },
 "nbformat": 4,
 "nbformat_minor": 2
}
