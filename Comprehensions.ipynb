{
 "cells": [
  {
   "cell_type": "markdown",
   "metadata": {},
   "source": [
    "# Python Comprehensions\n",
    "* Comprehensions are a concise way to create new sequences (such as lists, dictionaries, and sets) from existing iterables.\n",
    "* Python supports the following 4 types of comprehension:\n",
    "\n",
    "   - List Comprehensions\n",
    "   - Dictionary Comprehensions\n",
    "   - Set Comprehensions\n",
    "   - Generator Comprehensions"
   ]
  },
  {
   "cell_type": "markdown",
   "metadata": {},
   "source": [
    "# List Comprehensions\n",
    "* Syntax: output_list = [output_exp for var in input_list if (var satisfies this condition)]"
   ]
  },
  {
   "cell_type": "code",
   "execution_count": 103,
   "metadata": {},
   "outputs": [],
   "source": [
    "# Example\n",
    "input_list = [1, 2, 3, 4, 4, 5, 6, 7, 7]\n",
    "output_list = [] # To store even numbers from input_list"
   ]
  },
  {
   "cell_type": "code",
   "execution_count": 5,
   "metadata": {},
   "outputs": [
    {
     "name": "stdout",
     "output_type": "stream",
     "text": [
      "Outputlist: [2, 4, 4, 6]\n"
     ]
    }
   ],
   "source": [
    "for x in input_list:\n",
    "    if(x%2==0):\n",
    "        output_list.append(x)\n",
    "\n",
    "print(f\"Outputlist: {output_list}\")"
   ]
  },
  {
   "cell_type": "code",
   "execution_count": 104,
   "metadata": {},
   "outputs": [
    {
     "name": "stdout",
     "output_type": "stream",
     "text": [
      "[2, 4, 4, 6]\n"
     ]
    }
   ],
   "source": [
    "output_list = [x for x in input_list if x%2 == 0]\n",
    "print(output_list)"
   ]
  },
  {
   "cell_type": "code",
   "execution_count": 9,
   "metadata": {},
   "outputs": [
    {
     "name": "stdout",
     "output_type": "stream",
     "text": [
      "[1, 4, 9, 16, 25, 36, 49, 64, 81]\n"
     ]
    }
   ],
   "source": [
    "list_square_no = [var**2 for var in range(1, 10)]\n",
    "print(list_square_no)"
   ]
  },
  {
   "cell_type": "code",
   "execution_count": 105,
   "metadata": {},
   "outputs": [
    {
     "name": "stdout",
     "output_type": "stream",
     "text": [
      "Time taken for_loop: 1.59\n",
      "Time taken for list_comprehension: 1.43\n"
     ]
    }
   ],
   "source": [
    "# Import required module \n",
    "import time \n",
    "  \n",
    "  \n",
    "# define function to implement for loop \n",
    "def for_loop(n): \n",
    "    result = [] \n",
    "    for i in range(n): \n",
    "        result.append(i**2) \n",
    "    return result \n",
    "  \n",
    "  \n",
    "# define function to implement list comprehension \n",
    "def list_comprehension(n): \n",
    "    return [i**2 for i in range(n)] \n",
    "  \n",
    "  \n",
    "# Driver Code \n",
    "  \n",
    "# Calculate time taken by for_loop() \n",
    "begin = time.time() \n",
    "for_loop(10**7) \n",
    "end = time.time() \n",
    "  \n",
    "# Display time taken by for_loop() \n",
    "print('Time taken for_loop:', round(end-begin, 2)) \n",
    "  \n",
    "# Calculate time takens by list_comprehension() \n",
    "begin = time.time() \n",
    "list_comprehension(10**7) \n",
    "end = time.time() \n",
    "  \n",
    "# Display time taken by for_loop() \n",
    "print('Time taken for list_comprehension:', round(end-begin, 2)) "
   ]
  },
  {
   "cell_type": "code",
   "execution_count": 106,
   "metadata": {},
   "outputs": [
    {
     "name": "stdout",
     "output_type": "stream",
     "text": [
      "[[1, 2, 3], [2, 4, 6], [3, 6, 9]]\n"
     ]
    }
   ],
   "source": [
    "# matrix = matrix = [[j*10 for j in range(1,10) if j%2==0] for i in range(3)]\n",
    "matrix = [[x*j for j in [1,2,3]]for x in [1,2,3]]\n",
    "\n",
    "print(matrix)"
   ]
  },
  {
   "cell_type": "code",
   "execution_count": 107,
   "metadata": {},
   "outputs": [
    {
     "name": "stdout",
     "output_type": "stream",
     "text": [
      "[[5, 4, 8], [2, 9, 7], [4, 9, 9]]\n"
     ]
    }
   ],
   "source": [
    "import random\n",
    "\n",
    "li = [[random.randint(0,9) for j in range(3)] for i in range(3)]\n",
    "        \n",
    "print(li)"
   ]
  },
  {
   "cell_type": "code",
   "execution_count": 110,
   "metadata": {},
   "outputs": [
    {
     "data": {
      "text/plain": [
       "[2, 9, 7]"
      ]
     },
     "execution_count": 110,
     "metadata": {},
     "output_type": "execute_result"
    }
   ],
   "source": [
    "li[1]"
   ]
  },
  {
   "cell_type": "code",
   "execution_count": 111,
   "metadata": {},
   "outputs": [
    {
     "data": {
      "text/plain": [
       "[[5, 2, 4], [4, 9, 9], [8, 7, 9]]"
      ]
     },
     "execution_count": 111,
     "metadata": {},
     "output_type": "execute_result"
    }
   ],
   "source": [
    "transpose = [[i[j] for i in li] for j in range(3)]\n",
    "transpose"
   ]
  },
  {
   "cell_type": "markdown",
   "metadata": {},
   "source": [
    "# Dictionary Comprehensions\n",
    "* Syntax: output_dict = {key:value for (key, value) in iterable if (key, value satisfy this condition)}"
   ]
  },
  {
   "cell_type": "code",
   "execution_count": 113,
   "metadata": {},
   "outputs": [
    {
     "name": "stdout",
     "output_type": "stream",
     "text": [
      "{1: 1, 2: 4, 3: 9, 4: 16, 5: 25, 6: 36, 7: 49, 8: 64, 9: 81}\n"
     ]
    }
   ],
   "source": [
    "# Example\n",
    "input_list = [1, 2, 3, 4, 5, 6, 7, 8, 9]\n",
    "\n",
    "# output_dict = {key: key*key for key in input_list}\n",
    "output_dict = {key: value for (key, value) in zip(input_list, list_square_no)}\n",
    "print(output_dict)"
   ]
  },
  {
   "cell_type": "markdown",
   "metadata": {},
   "source": [
    "# Set Comprehensions\n",
    "* Syntax: {output_exp for var in input_list if (var satisfies this condition)}"
   ]
  },
  {
   "cell_type": "code",
   "execution_count": 114,
   "metadata": {},
   "outputs": [
    {
     "name": "stdout",
     "output_type": "stream",
     "text": [
      "{64, 1, 4, 36, 9, 16, 49, 81, 25}\n"
     ]
    }
   ],
   "source": [
    "output_set = {var**2 for var in range(1,10)}\n",
    "print(output_set)\n"
   ]
  },
  {
   "cell_type": "markdown",
   "metadata": {},
   "source": [
    "# Generators\n",
    "* Syntax: \n",
    "* * def simpleGeneratorFun():\n",
    "    yield 1            \n",
    "    yield 2            \n",
    "    yield 3            \n",
    " \n",
    "* Driver code to check above generator function\n",
    "* * for value in simpleGeneratorFun(): \n",
    "    print(value)\n",
    "\n",
    "# Generator Comprehensions\n",
    "* Syntax: (output_exp for var in input_list if (var satisfies this condition))"
   ]
  },
  {
   "cell_type": "code",
   "execution_count": 115,
   "metadata": {},
   "outputs": [
    {
     "name": "stdout",
     "output_type": "stream",
     "text": [
      "<generator object <genexpr> at 0x000002336D9D4380>\n"
     ]
    }
   ],
   "source": [
    "output = (var**2 for var in range(1,10))\n",
    "print(output)"
   ]
  },
  {
   "cell_type": "code",
   "execution_count": 116,
   "metadata": {},
   "outputs": [
    {
     "name": "stdout",
     "output_type": "stream",
     "text": [
      "1\n",
      "4\n",
      "9\n",
      "16\n",
      "25\n",
      "36\n",
      "49\n",
      "64\n",
      "81\n"
     ]
    }
   ],
   "source": [
    "for var in output:\n",
    "    print(var)"
   ]
  },
  {
   "cell_type": "code",
   "execution_count": null,
   "metadata": {},
   "outputs": [],
   "source": []
  },
  {
   "cell_type": "markdown",
   "metadata": {},
   "source": [
    "# Exercise\n"
   ]
  },
  {
   "cell_type": "markdown",
   "metadata": {},
   "source": [
    "* Ques1: Using comprehensions, return all the vowels present in a String\n",
    "* Ques2: Generate a Python list of all the even numbers between 22 to 58 (both 22,58 excluded)"
   ]
  },
  {
   "cell_type": "code",
   "execution_count": null,
   "metadata": {},
   "outputs": [],
   "source": []
  }
 ],
 "metadata": {
  "kernelspec": {
   "display_name": "venv",
   "language": "python",
   "name": "python3"
  },
  "language_info": {
   "codemirror_mode": {
    "name": "ipython",
    "version": 3
   },
   "file_extension": ".py",
   "mimetype": "text/x-python",
   "name": "python",
   "nbconvert_exporter": "python",
   "pygments_lexer": "ipython3",
   "version": "3.11.6"
  }
 },
 "nbformat": 4,
 "nbformat_minor": 2
}
