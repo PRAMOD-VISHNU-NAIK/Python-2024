{
 "cells": [
  {
   "cell_type": "markdown",
   "metadata": {},
   "source": [
    "### **Integers**\n",
    "Two types of integers\n",
    "- They can be positive or negative numbers. "
   ]
  },
  {
   "cell_type": "code",
   "execution_count": 75,
   "metadata": {},
   "outputs": [
    {
     "name": "stdout",
     "output_type": "stream",
     "text": [
      "The sum of two integers =  15\n"
     ]
    }
   ],
   "source": [
    "#Demonstration of Integer - Addition of two integer numbers\n",
    "num1 = int(input(\"Enter the value of num1: \"))\n",
    "num2 = int(input(\"Enter the value of num2: \"))\n",
    "sum = num1 + num2\n",
    "print(\"The sum of two integers = \",sum)"
   ]
  },
  {
   "cell_type": "code",
   "execution_count": 76,
   "metadata": {},
   "outputs": [
    {
     "data": {
      "text/plain": [
       "int"
      ]
     },
     "execution_count": 76,
     "metadata": {},
     "output_type": "execute_result"
    }
   ],
   "source": [
    "#Type Checking\n",
    "type(num1)"
   ]
  },
  {
   "cell_type": "code",
   "execution_count": 9,
   "metadata": {},
   "outputs": [],
   "source": [
    "# Creating integers\n",
    "a = 10\n",
    "b = -3\n",
    "\n",
    "# Basic arithmetic operations\n",
    "addition = a + b         # 10 + (-3) = 7\n",
    "subtraction = a - b      # 10 - (-3) = 13\n",
    "multiplication = a * b   # 10 * (-3) = -30\n",
    "division = a // b        # 10 // (-3) = -4 (floor division)\n",
    "remainder = a % b        # 10 % (-3) = 1\n"
   ]
  },
  {
   "cell_type": "code",
   "execution_count": 10,
   "metadata": {},
   "outputs": [
    {
     "data": {
      "text/plain": [
       "7"
      ]
     },
     "execution_count": 10,
     "metadata": {},
     "output_type": "execute_result"
    }
   ],
   "source": [
    "addition"
   ]
  },
  {
   "cell_type": "code",
   "execution_count": 11,
   "metadata": {},
   "outputs": [
    {
     "data": {
      "text/plain": [
       "13"
      ]
     },
     "execution_count": 11,
     "metadata": {},
     "output_type": "execute_result"
    }
   ],
   "source": [
    "subtraction"
   ]
  },
  {
   "cell_type": "code",
   "execution_count": 12,
   "metadata": {},
   "outputs": [
    {
     "data": {
      "text/plain": [
       "-30"
      ]
     },
     "execution_count": 12,
     "metadata": {},
     "output_type": "execute_result"
    }
   ],
   "source": [
    "multiplication"
   ]
  },
  {
   "cell_type": "code",
   "execution_count": 13,
   "metadata": {},
   "outputs": [
    {
     "data": {
      "text/plain": [
       "-4"
      ]
     },
     "execution_count": 13,
     "metadata": {},
     "output_type": "execute_result"
    }
   ],
   "source": [
    "division"
   ]
  },
  {
   "cell_type": "code",
   "execution_count": 14,
   "metadata": {},
   "outputs": [
    {
     "data": {
      "text/plain": [
       "-2"
      ]
     },
     "execution_count": 14,
     "metadata": {},
     "output_type": "execute_result"
    }
   ],
   "source": [
    "remainder"
   ]
  },
  {
   "cell_type": "markdown",
   "metadata": {},
   "source": [
    "#### Large Integers"
   ]
  },
  {
   "cell_type": "code",
   "execution_count": 15,
   "metadata": {},
   "outputs": [
    {
     "name": "stdout",
     "output_type": "stream",
     "text": [
      "123456789012345678901234567890\n"
     ]
    }
   ],
   "source": [
    "\n",
    "large_number = 123456789012345678901234567890\n",
    "print(large_number)  # Outputs the large number without overflow\n"
   ]
  },
  {
   "cell_type": "markdown",
   "metadata": {},
   "source": [
    "#### Type Conversion"
   ]
  },
  {
   "cell_type": "code",
   "execution_count": 16,
   "metadata": {},
   "outputs": [
    {
     "name": "stdout",
     "output_type": "stream",
     "text": [
      "3\n",
      "42\n"
     ]
    }
   ],
   "source": [
    "float_number = 3.14\n",
    "integer_from_float = int(float_number)  # Converts float to int (3)\n",
    "print(integer_from_float)  # Outputs: 3\n",
    "\n",
    "string_number = \"42\"\n",
    "integer_from_string = int(string_number)  # Converts string to int\n",
    "print(integer_from_string)  # Outputs: 42"
   ]
  },
  {
   "cell_type": "code",
   "execution_count": 77,
   "metadata": {},
   "outputs": [
    {
     "data": {
      "text/plain": [
       "int"
      ]
     },
     "execution_count": 77,
     "metadata": {},
     "output_type": "execute_result"
    }
   ],
   "source": [
    "type(integer_from_float)"
   ]
  },
  {
   "cell_type": "markdown",
   "metadata": {},
   "source": [
    "#### Use Cases:\n",
    "- Counting: Keeping track of items or occurrences.\n",
    "- Indexing: Accessing elements in lists, strings, or other data structures.\n",
    "- Mathematical Calculations: Performing various arithmetic operations in algorithms."
   ]
  },
  {
   "cell_type": "markdown",
   "metadata": {},
   "source": [
    "- The sys.set_int_max_str_digits() function in Python is used to set a limit on the number of digits that can be used in a string representation of an integer before a ValueError is raised. \n",
    "- This function can be helpful for preventing issues with very large integers, particularly when parsing strings into integers."
   ]
  },
  {
   "cell_type": "code",
   "execution_count": 80,
   "metadata": {},
   "outputs": [
    {
     "ename": "ValueError",
     "evalue": "maxdigits must be 0 or larger than 640",
     "output_type": "error",
     "traceback": [
      "\u001b[1;31m---------------------------------------------------------------------------\u001b[0m",
      "\u001b[1;31mValueError\u001b[0m                                Traceback (most recent call last)",
      "Cell \u001b[1;32mIn[80], line 4\u001b[0m\n\u001b[0;32m      1\u001b[0m \u001b[38;5;28;01mimport\u001b[39;00m \u001b[38;5;21;01msys\u001b[39;00m\n\u001b[0;32m      3\u001b[0m \u001b[38;5;66;03m# Set the limit for the maximum number of digits\u001b[39;00m\n\u001b[1;32m----> 4\u001b[0m \u001b[43msys\u001b[49m\u001b[38;5;241;43m.\u001b[39;49m\u001b[43mset_int_max_str_digits\u001b[49m\u001b[43m(\u001b[49m\u001b[38;5;241;43m10\u001b[39;49m\u001b[43m)\u001b[49m\n\u001b[0;32m      6\u001b[0m \u001b[38;5;66;03m# Valid case: within the limit\u001b[39;00m\n\u001b[0;32m      7\u001b[0m valid_number \u001b[38;5;241m=\u001b[39m \u001b[38;5;241m123\u001b[39m\u001b[38;5;241m*\u001b[39m\u001b[38;5;241m*\u001b[39m\u001b[38;5;241m10000\u001b[39m\n",
      "\u001b[1;31mValueError\u001b[0m: maxdigits must be 0 or larger than 640"
     ]
    }
   ],
   "source": [
    "import sys\n",
    "\n",
    "# Set the limit for the maximum number of digits\n",
    "sys.set_int_max_str_digits(10)\n",
    "\n",
    "# Valid case: within the limit\n",
    "valid_number = 123**10000\n",
    "\n",
    "print(valid_number)  #\n"
   ]
  },
  {
   "cell_type": "markdown",
   "metadata": {},
   "source": [
    "#### The int type in Python comes with several built-in methods that can be used to perform various operations on integer objects."
   ]
  },
  {
   "cell_type": "markdown",
   "metadata": {},
   "source": [
    "`.as_integer_ratio()`\n",
    "- Converts a floating-point number to a pair of integers representing its rational approximation. \n",
    "- This method is not directly available for integers but is useful for floating-point numbers (float).\n"
   ]
  },
  {
   "cell_type": "code",
   "execution_count": 29,
   "metadata": {},
   "outputs": [
    {
     "name": "stdout",
     "output_type": "stream",
     "text": [
      "(3, 4)\n"
     ]
    }
   ],
   "source": [
    "# Example with floating-point number\n",
    "f = 0.75\n",
    "ratio = f.as_integer_ratio()  # Returns (3, 4), which means 0.75 = 3/4\n",
    "print(ratio)  # Outputs: (3, 4)"
   ]
  },
  {
   "cell_type": "markdown",
   "metadata": {},
   "source": [
    "`.bit_count()`\n",
    "- Returns the number of bits needed to represent the integer in binary, excluding the sign and leading zeros. \n",
    "- Available in Python 3.10 and later."
   ]
  },
  {
   "cell_type": "code",
   "execution_count": 30,
   "metadata": {},
   "outputs": [
    {
     "name": "stdout",
     "output_type": "stream",
     "text": [
      "3\n"
     ]
    }
   ],
   "source": [
    "num = 42\n",
    "bit_count = num.bit_count()  # Counts the number of 1's in the binary representation\n",
    "print(bit_count)  # Outputs: 3 (binary '101010' has three 1's)\n"
   ]
  },
  {
   "cell_type": "markdown",
   "metadata": {},
   "source": [
    "`.bit_length()`\n",
    "- Returns the number of bits necessary to represent the integer in binary, excluding the sign and leading zeros."
   ]
  },
  {
   "cell_type": "code",
   "execution_count": 31,
   "metadata": {},
   "outputs": [
    {
     "name": "stdout",
     "output_type": "stream",
     "text": [
      "6\n"
     ]
    }
   ],
   "source": [
    "num = 42\n",
    "bit_length = num.bit_length()  # Number of bits required to represent 42 in binary\n",
    "print(bit_length)  # Outputs: 6 (binary '101010' needs 6 bits)\n"
   ]
  },
  {
   "cell_type": "markdown",
   "metadata": {},
   "source": [
    "`.is_integer()`\n",
    "- This method is available for floating-point numbers (float), not integers. \n",
    "- It checks whether the floating-point number is an integer (i.e., has no fractional part)."
   ]
  },
  {
   "cell_type": "code",
   "execution_count": 34,
   "metadata": {},
   "outputs": [
    {
     "name": "stdout",
     "output_type": "stream",
     "text": [
      "True\n",
      "False\n"
     ]
    }
   ],
   "source": [
    "f1 = 10.0\n",
    "f2 = 10.5\n",
    "print(f1.is_integer())  # Outputs: True (10.0 is an integer value)\n",
    "print(f2.is_integer())  # Outputs: False (10.5 is not an integer value)\n"
   ]
  },
  {
   "cell_type": "code",
   "execution_count": 36,
   "metadata": {},
   "outputs": [
    {
     "name": "stdout",
     "output_type": "stream",
     "text": [
      "Odd parity\n"
     ]
    }
   ],
   "source": [
    "signal = 0b11010110\n",
    "set_bits = signal.bit_count()\n",
    "if set_bits % 2 == 0:\n",
    "    print(\"Even parity\")\n",
    "else:\n",
    "    print(\"Odd parity\")"
   ]
  },
  {
   "cell_type": "markdown",
   "metadata": {},
   "source": [
    "#### The Built-in int() Function\n",
    "- The built-in int() function provides another way to create integer values using different representations. \n",
    "- With no arguments, the function returns 0"
   ]
  },
  {
   "cell_type": "code",
   "execution_count": 37,
   "metadata": {},
   "outputs": [
    {
     "data": {
      "text/plain": [
       "0"
      ]
     },
     "execution_count": 37,
     "metadata": {},
     "output_type": "execute_result"
    }
   ],
   "source": [
    "int()"
   ]
  },
  {
   "cell_type": "markdown",
   "metadata": {},
   "source": [
    "### **Floating point numbers**\n",
    "- Floating-point numbers, or just float, are numbers with a decimal place. \n",
    "- For example, 1.0 and 3.14 are floating-point numbers. "
   ]
  },
  {
   "cell_type": "markdown",
   "metadata": {},
   "source": [
    "#### Floating-point Methods\t\n",
    "\n",
    "- .as_integer_ratio()\t- Returns a pair of integers whose ratio is exactly equal to the original float\n",
    " - .is_integer()\t    - Returns True if the float instance is finite with integral value, and False otherwise\n",
    "- .hex()\t            - Returns a representation of a floating-point number as a hexadecimal string\n",
    "- .fromhex(string)\t    - Builds the float from a hexadecimal string"
   ]
  },
  {
   "cell_type": "code",
   "execution_count": 44,
   "metadata": {},
   "outputs": [
    {
     "name": "stdout",
     "output_type": "stream",
     "text": [
      "(3, 4)\n"
     ]
    }
   ],
   "source": [
    "#Returns a tuple of two integers whose ratio is exactly equal to the floating-point number.\n",
    "num = 0.75\n",
    "ratio = num.as_integer_ratio()\n",
    "print(ratio)  # Outputs: (3, 4)\n"
   ]
  },
  {
   "cell_type": "code",
   "execution_count": 45,
   "metadata": {},
   "outputs": [
    {
     "name": "stdout",
     "output_type": "stream",
     "text": [
      "True\n",
      "False\n"
     ]
    }
   ],
   "source": [
    "#Returns True if the float is an integer (i.e., it has no fractional part), otherwise returns False.\n",
    "num1 = 5.0\n",
    "num2 = 5.5\n",
    "\n",
    "print(num1.is_integer())  # Outputs: True\n",
    "print(num2.is_integer())  # Outputs: False\n"
   ]
  },
  {
   "cell_type": "code",
   "execution_count": 46,
   "metadata": {},
   "outputs": [
    {
     "name": "stdout",
     "output_type": "stream",
     "text": [
      "0x1.91eb851eb851fp+1\n"
     ]
    }
   ],
   "source": [
    "#Returns a hexadecimal string representation of the floating-point number. This can be useful for debugging and low-level operations.\n",
    "num = 3.14\n",
    "hex_representation = num.hex()\n",
    "print(hex_representation)  # Outputs: '0x1.91eb851eb851fp+1'\n"
   ]
  },
  {
   "cell_type": "code",
   "execution_count": 47,
   "metadata": {},
   "outputs": [
    {
     "name": "stdout",
     "output_type": "stream",
     "text": [
      "3.140000104904175\n"
     ]
    }
   ],
   "source": [
    "# Converts a hexadecimal string representation of a float to a floating-point number\n",
    "hex_str = '0x1.91eb86p+1'\n",
    "num = float.fromhex(hex_str)\n",
    "print(num)  # Outputs: 3.140000104904175\n"
   ]
  },
  {
   "cell_type": "markdown",
   "metadata": {},
   "source": [
    "### **Complex Number Literals**\n",
    "- Python has a built-in type for complex numbers. \n",
    "- Complex numbers are composed of real and imaginary parts. \n",
    "- They have the form a + bi, where a and b are real numbers, and i is the imaginary unit"
   ]
  },
  {
   "cell_type": "code",
   "execution_count": 50,
   "metadata": {},
   "outputs": [
    {
     "data": {
      "text/plain": [
       "complex"
      ]
     },
     "execution_count": 50,
     "metadata": {},
     "output_type": "execute_result"
    }
   ],
   "source": [
    "type(2 + 3j)"
   ]
  },
  {
   "cell_type": "code",
   "execution_count": 51,
   "metadata": {},
   "outputs": [
    {
     "data": {
      "text/plain": [
       "(2.4+7.5j)"
      ]
     },
     "execution_count": 51,
     "metadata": {},
     "output_type": "execute_result"
    }
   ],
   "source": [
    "2.4 + 7.5j"
   ]
  },
  {
   "cell_type": "code",
   "execution_count": 53,
   "metadata": {},
   "outputs": [
    {
     "data": {
      "text/plain": [
       "(2-3j)"
      ]
     },
     "execution_count": 53,
     "metadata": {},
     "output_type": "execute_result"
    }
   ],
   "source": [
    "#The conjugate() method flips the sign of the imaginary part, returning the complex conjugate.\n",
    "number = 2 + 3j\n",
    "number.conjugate()"
   ]
  },
  {
   "cell_type": "markdown",
   "metadata": {},
   "source": [
    "### Strings and Characters\n",
    "- strings are sequences of characters, and they are one of the most commonly used data types. \n",
    "- Strings are immutable, meaning once created, they cannot be changed. \n",
    "- Characters are the individual elements that make up a string."
   ]
  },
  {
   "cell_type": "markdown",
   "metadata": {},
   "source": [
    "**Definition - String **\n",
    "- A string is a sequence of characters enclosed in quotes. \n",
    "- Python supports single quotes ('), double quotes (\"), and triple quotes (''' or \"\"\") for multi-line strings."
   ]
  },
  {
   "cell_type": "code",
   "execution_count": 54,
   "metadata": {},
   "outputs": [],
   "source": [
    "single_quote_string = 'Hello'\n",
    "double_quote_string = \"World\"\n",
    "triple_quote_string = '''This is\n",
    "a multi-line\n",
    "string'''\n"
   ]
  },
  {
   "cell_type": "code",
   "execution_count": 55,
   "metadata": {},
   "outputs": [
    {
     "data": {
      "text/plain": [
       "'Hello'"
      ]
     },
     "execution_count": 55,
     "metadata": {},
     "output_type": "execute_result"
    }
   ],
   "source": [
    "single_quote_string"
   ]
  },
  {
   "cell_type": "code",
   "execution_count": 56,
   "metadata": {},
   "outputs": [
    {
     "data": {
      "text/plain": [
       "'World'"
      ]
     },
     "execution_count": 56,
     "metadata": {},
     "output_type": "execute_result"
    }
   ],
   "source": [
    "double_quote_string"
   ]
  },
  {
   "cell_type": "code",
   "execution_count": 57,
   "metadata": {},
   "outputs": [
    {
     "data": {
      "text/plain": [
       "'This is\\na multi-line\\nstring'"
      ]
     },
     "execution_count": 57,
     "metadata": {},
     "output_type": "execute_result"
    }
   ],
   "source": [
    "triple_quote_string"
   ]
  },
  {
   "cell_type": "markdown",
   "metadata": {},
   "source": [
    "### Bytes and Bytearray"
   ]
  },
  {
   "cell_type": "code",
   "execution_count": 59,
   "metadata": {},
   "outputs": [],
   "source": [
    "# Define binary data\n",
    "data = bytes([0xDE, 0xAD, 0xBE, 0xEF, 0x00, 0xFF])\n",
    "\n",
    "# Write the binary data to a file\n",
    "with open('example.bin', 'wb') as file:\n",
    "    file.write(data)\n"
   ]
  },
  {
   "cell_type": "code",
   "execution_count": 60,
   "metadata": {},
   "outputs": [
    {
     "name": "stdout",
     "output_type": "stream",
     "text": [
      "bytearray(b'\\xde\\xad\\xbe\\xef\\x00\\xff')\n"
     ]
    }
   ],
   "source": [
    "# Read the binary data from the file\n",
    "with open('example.bin', 'rb') as file:\n",
    "    byte_array = bytearray(file.read())\n",
    "\n",
    "print(byte_array)  # Outputs: bytearray(b'\\xde\\xad\\xbe\\xef\\x00\\xff')\n",
    "\n"
   ]
  },
  {
   "cell_type": "markdown",
   "metadata": {},
   "source": [
    "### **Composite Datatypes**\n",
    "\n",
    "- Composite data types in Python are built-in types that can store multiple values. \n",
    "- These include lists, tuples, sets, and dictionaries. Each type serves different purposes and has unique characteristics. "
   ]
  },
  {
   "cell_type": "markdown",
   "metadata": {},
   "source": [
    "#### List\n",
    "- A list is an ordered, mutable collection of items. Lists can contain elements of different types and can be nested."
   ]
  },
  {
   "cell_type": "code",
   "execution_count": 82,
   "metadata": {},
   "outputs": [
    {
     "data": {
      "text/plain": [
       "[1, 2, 3, 'a', 'b', [4, 5]]"
      ]
     },
     "execution_count": 82,
     "metadata": {},
     "output_type": "execute_result"
    }
   ],
   "source": [
    "my_list = [1, 2, 3, 'a', 'b', [4, 5]]\n",
    "my_list"
   ]
  },
  {
   "cell_type": "code",
   "execution_count": 83,
   "metadata": {},
   "outputs": [
    {
     "name": "stdout",
     "output_type": "stream",
     "text": [
      "2\n",
      "[2, 3]\n"
     ]
    }
   ],
   "source": [
    "#Indexing and Slicing\n",
    "my_list = [1, 2, 3, 'a']\n",
    "print(my_list[1])  # Outputs: 2\n",
    "print(my_list[1:3])  # Outputs: [2, 3]\n"
   ]
  },
  {
   "cell_type": "code",
   "execution_count": 84,
   "metadata": {},
   "outputs": [
    {
     "data": {
      "text/plain": [
       "'a'"
      ]
     },
     "execution_count": 84,
     "metadata": {},
     "output_type": "execute_result"
    }
   ],
   "source": [
    "my_list[-1]"
   ]
  },
  {
   "cell_type": "code",
   "execution_count": 63,
   "metadata": {},
   "outputs": [
    {
     "name": "stdout",
     "output_type": "stream",
     "text": [
      "[1, 2, 3, 4, 5]\n"
     ]
    }
   ],
   "source": [
    "#Appending and extending\n",
    "my_list = [1, 2]\n",
    "my_list.append(3)  # Adds 3 to the end\n",
    "my_list.extend([4, 5])  # Adds multiple elements\n",
    "print(my_list)  # Outputs: [1, 2, 3, 4, 5]\n"
   ]
  },
  {
   "cell_type": "code",
   "execution_count": 64,
   "metadata": {},
   "outputs": [
    {
     "name": "stdout",
     "output_type": "stream",
     "text": [
      "[3]\n"
     ]
    }
   ],
   "source": [
    "#Removing elements\n",
    "my_list = [1, 2, 3]\n",
    "my_list.remove(2)  # Removes the first occurrence of 2\n",
    "del my_list[0]  # Removes element at index 0\n",
    "print(my_list)  # Outputs: [3]\n"
   ]
  },
  {
   "cell_type": "markdown",
   "metadata": {},
   "source": [
    "#### Tuple\n",
    "- A tuple is an ordered, immutable collection of items. Tuples can contain elements of different types and can be nested."
   ]
  },
  {
   "cell_type": "code",
   "execution_count": 65,
   "metadata": {},
   "outputs": [
    {
     "data": {
      "text/plain": [
       "(1, 2, 3, 'a', 'b', (4, 5))"
      ]
     },
     "execution_count": 65,
     "metadata": {},
     "output_type": "execute_result"
    }
   ],
   "source": [
    "my_tuple = (1, 2, 3, 'a', 'b', (4, 5))\n",
    "my_tuple"
   ]
  },
  {
   "cell_type": "code",
   "execution_count": 66,
   "metadata": {},
   "outputs": [
    {
     "name": "stdout",
     "output_type": "stream",
     "text": [
      "2\n",
      "(2, 3)\n"
     ]
    }
   ],
   "source": [
    "#Indexing and Slicing\n",
    "my_tuple = (1, 2, 3, 'a')\n",
    "print(my_tuple[1])  # Outputs: 2\n",
    "print(my_tuple[1:3])  # Outputs: (2, 3)\n"
   ]
  },
  {
   "cell_type": "code",
   "execution_count": 67,
   "metadata": {},
   "outputs": [
    {
     "name": "stdout",
     "output_type": "stream",
     "text": [
      "(1, 2, 3, 4)\n",
      "(1, 2, 1, 2, 1, 2)\n"
     ]
    }
   ],
   "source": [
    "#Concatenation and repitition\n",
    "my_tuple = (1, 2)\n",
    "new_tuple = my_tuple + (3, 4)  # Concatenation\n",
    "repeated_tuple = my_tuple * 3  # Repetition\n",
    "print(new_tuple)  # Outputs: (1, 2, 3, 4)\n",
    "print(repeated_tuple)  # Outputs: (1, 2, 1, 2, 1, 2)\n"
   ]
  },
  {
   "cell_type": "markdown",
   "metadata": {},
   "source": [
    "#### Set\n",
    "- A set is an unordered collection of unique elements. Sets are mutable and do not allow duplicate items."
   ]
  },
  {
   "cell_type": "code",
   "execution_count": 68,
   "metadata": {},
   "outputs": [
    {
     "data": {
      "text/plain": [
       "{1, 2, 3, 'a', 'b'}"
      ]
     },
     "execution_count": 68,
     "metadata": {},
     "output_type": "execute_result"
    }
   ],
   "source": [
    "my_set = {1, 2, 3, 'a', 'b'}\n",
    "my_set"
   ]
  },
  {
   "cell_type": "code",
   "execution_count": 69,
   "metadata": {},
   "outputs": [
    {
     "name": "stdout",
     "output_type": "stream",
     "text": [
      "{1, 3, 4}\n"
     ]
    }
   ],
   "source": [
    "#Adding and removing elements\n",
    "my_set = {1, 2, 3}\n",
    "my_set.add(4)  # Adds 4 to the set\n",
    "my_set.remove(2)  # Removes 2 from the set\n",
    "print(my_set)  # Outputs: {1, 3, 4}\n"
   ]
  },
  {
   "cell_type": "code",
   "execution_count": 70,
   "metadata": {},
   "outputs": [
    {
     "name": "stdout",
     "output_type": "stream",
     "text": [
      "{1, 2, 3, 4, 5}\n",
      "{3}\n",
      "{1, 2}\n"
     ]
    }
   ],
   "source": [
    "#Mathematical operations\n",
    "set1 = {1, 2, 3}\n",
    "set2 = {3, 4, 5}\n",
    "union_set = set1 | set2  # Union\n",
    "intersection_set = set1 & set2  # Intersection\n",
    "difference_set = set1 - set2  # Difference\n",
    "print(union_set)  # Outputs: {1, 2, 3, 4, 5}\n",
    "print(intersection_set)  # Outputs: {3}\n",
    "print(difference_set)  # Outputs: {1, 2}\n"
   ]
  },
  {
   "cell_type": "markdown",
   "metadata": {},
   "source": [
    "#### Dictionary\n",
    "- A dictionary is an unordered collection of key-value pairs. Keys are unique, and values can be of any type. Dictionaries are mutable."
   ]
  },
  {
   "cell_type": "code",
   "execution_count": 71,
   "metadata": {},
   "outputs": [
    {
     "data": {
      "text/plain": [
       "{'name': 'Alice', 'age': 30, 'city': 'New York'}"
      ]
     },
     "execution_count": 71,
     "metadata": {},
     "output_type": "execute_result"
    }
   ],
   "source": [
    "my_dict = {'name': 'Alice', 'age': 30, 'city': 'New York'}\n",
    "my_dict"
   ]
  },
  {
   "cell_type": "code",
   "execution_count": 72,
   "metadata": {},
   "outputs": [
    {
     "name": "stdout",
     "output_type": "stream",
     "text": [
      "Alice\n",
      "{'name': 'Alice', 'age': 31}\n"
     ]
    }
   ],
   "source": [
    "#Access and update by key\n",
    "my_dict = {'name': 'Alice', 'age': 30}\n",
    "print(my_dict['name'])  # Outputs: Alice\n",
    "my_dict['age'] = 31  # Update value\n",
    "print(my_dict)  # Outputs: {'name': 'Alice', 'age': 31}\n"
   ]
  },
  {
   "cell_type": "code",
   "execution_count": 74,
   "metadata": {},
   "outputs": [
    {
     "name": "stdout",
     "output_type": "stream",
     "text": [
      "{'name': 'Alice', 'age': 31, 'city': 'New York'}\n",
      "{'name': 'Alice', 'age': 31}\n"
     ]
    }
   ],
   "source": [
    "#Add and remove key-value pairs\n",
    "my_dict['city'] = 'New York'  # Add new item\n",
    "print(my_dict)\n",
    "del my_dict['city']  # Remove item\n",
    "print(my_dict)  # Outputs: {'name': 'Alice', 'age': 31}\n"
   ]
  },
  {
   "cell_type": "markdown",
   "metadata": {},
   "source": [
    "### Problem Statement: Contact Book Management System\n",
    "- Objective: Develop a simple Contact Book Management System to efficiently manage and manipulate contact information. The system should support adding, updating, retrieving, and listing contacts. Each contact is defined by a tuple containing their name, phone number, and email address.\n",
    "\n"
   ]
  },
  {
   "cell_type": "markdown",
   "metadata": {},
   "source": [
    "#### Data Storage:\n",
    "\n",
    "- Use a list to store all contacts, where each contact is represented as a tuple with the format (name, phone_number, email).\n",
    "- Use a set to keep track of unique phone numbers to ensure that no two contacts have the same phone number.\n",
    "- Use a dictionary to provide fast lookups and updates of contacts by phone number."
   ]
  },
  {
   "cell_type": "markdown",
   "metadata": {},
   "source": [
    "### Operations:\n",
    "\n",
    "#### Add Contact:\n",
    "\n",
    "- Input: Name, phone number, email.\n",
    "- Check if the phone number is already present using the set. If not, add the contact to the list, set, and dictionary.\n",
    "- Output: Confirmation message indicating whether the contact was successfully added or if the phone number already exists.\n",
    "#### Update Contact:\n",
    "\n",
    "- Input: Phone number, new name (optional), new email (optional).\n",
    "- Check if the phone number exists in the dictionary. If found, update the contact details in both the list and dictionary.\n",
    "- Output: Confirmation message indicating whether the contact was successfully updated or if the phone number was not found.\n",
    "#### Retrieve Contact:\n",
    "\n",
    "- Input: Phone number.\n",
    "- Look up the contact details using the dictionary.\n",
    "- Output: The contact’s details if found, or a message indicating that the contact was not found.\n",
    "#### List Contacts:\n",
    "\n",
    "- Output: List all contacts stored in the list with their details.\n",
    "#### Constraints:\n",
    "\n",
    "- The phone number must be unique for each contact.\n",
    "- The tuple should be immutable and represent a fixed-size collection of contact details.\n",
    "- The list allows for ordered storage and iteration, while the set and dictionary ensure uniqueness and fast access, respectively."
   ]
  },
  {
   "cell_type": "code",
   "execution_count": null,
   "metadata": {},
   "outputs": [],
   "source": []
  }
 ],
 "metadata": {
  "kernelspec": {
   "display_name": "basic_python",
   "language": "python",
   "name": "python3"
  },
  "language_info": {
   "codemirror_mode": {
    "name": "ipython",
    "version": 3
   },
   "file_extension": ".py",
   "mimetype": "text/x-python",
   "name": "python",
   "nbconvert_exporter": "python",
   "pygments_lexer": "ipython3",
   "version": "3.12.3"
  }
 },
 "nbformat": 4,
 "nbformat_minor": 2
}
